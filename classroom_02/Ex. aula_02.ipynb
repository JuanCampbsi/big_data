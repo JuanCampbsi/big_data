{
 "cells": [
  {
   "cell_type": "markdown",
   "metadata": {
    "application/vnd.databricks.v1+cell": {
     "cellMetadata": {},
     "inputWidgets": {},
     "nuid": "8d1379d8-eee6-4445-b6d2-ee65a577be9c",
     "showTitle": false,
     "title": ""
    }
   },
   "source": [
    "## Exercício 1: Upload de Dados para o DBFS\n",
    "Tarefa: Faça o upload de um arquivo CSV contendo dados de vendas para o DBFS e liste o conteúdo do diretório."
   ]
  },
  {
   "cell_type": "code",
   "execution_count": 0,
   "metadata": {
    "application/vnd.databricks.v1+cell": {
     "cellMetadata": {
      "byteLimit": 2048000,
      "rowLimit": 10000
     },
     "inputWidgets": {},
     "nuid": "eb956af2-7f58-4ca5-ba81-0520d13db242",
     "showTitle": false,
     "title": ""
    }
   },
   "outputs": [
    {
     "output_type": "stream",
     "name": "stdout",
     "output_type": "stream",
     "text": [
      "Out[3]: True"
     ]
    }
   ],
   "source": [
    "dbutils.fs.cp(\"dbfs:/FileStore/aula_02/Bank_Marketing.csv\", \"/dbfs/FileStore/aula_02/Bank_Marketing.csv\")"
   ]
  },
  {
   "cell_type": "code",
   "execution_count": 0,
   "metadata": {
    "application/vnd.databricks.v1+cell": {
     "cellMetadata": {
      "byteLimit": 2048000,
      "rowLimit": 10000
     },
     "inputWidgets": {},
     "nuid": "cc88574f-ac42-4a78-8fb0-dbef275569f6",
     "showTitle": false,
     "title": ""
    }
   },
   "outputs": [
    {
     "output_type": "stream",
     "name": "stdout",
     "output_type": "stream",
     "text": [
      "Out[4]: [FileInfo(path='dbfs:/FileStore/aula_02/Bank_Marketing.csv', name='Bank_Marketing.csv', size=3700884, modificationTime=1699314362000)]"
     ]
    }
   ],
   "source": [
    "dbutils.fs.ls(\"dbfs:/FileStore/aula_02/\")"
   ]
  },
  {
   "cell_type": "markdown",
   "metadata": {
    "application/vnd.databricks.v1+cell": {
     "cellMetadata": {
      "byteLimit": 2048000,
      "rowLimit": 10000
     },
     "inputWidgets": {},
     "nuid": "86eff09d-7915-447c-9c27-c4fc52d46b64",
     "showTitle": false,
     "title": ""
    }
   },
   "source": [
    "## Exercício 2: Leitura e Análise de Dados\n",
    "\n",
    "Tarefa: Leia o arquivo CSV de vendas do DBFS e execute uma análise simples, como a contagem de registros e a exibição das primeiras linhas."
   ]
  },
  {
   "cell_type": "code",
   "execution_count": 0,
   "metadata": {
    "application/vnd.databricks.v1+cell": {
     "cellMetadata": {
      "byteLimit": 2048000,
      "rowLimit": 10000
     },
     "inputWidgets": {},
     "nuid": "3adb1f68-165a-4b6e-a058-6b068e635385",
     "showTitle": false,
     "title": ""
    }
   },
   "outputs": [
    {
     "output_type": "stream",
     "name": "stdout",
     "output_type": "stream",
     "text": [
      "Out[13]: 45211"
     ]
    }
   ],
   "source": [
    "from pyspark.sql.functions import *\n",
    "\n",
    "# Leitura do arquivo CSV\n",
    "df = spark.read.csv(\"/dbfs/FileStore/aula_02/Bank_Marketing.csv\", header=True, inferSchema=True)\n",
    "\n",
    "# Contagem\n",
    "df.count()\n"
   ]
  },
  {
   "cell_type": "code",
   "execution_count": 0,
   "metadata": {
    "application/vnd.databricks.v1+cell": {
     "cellMetadata": {
      "byteLimit": 2048000,
      "rowLimit": 10000
     },
     "inputWidgets": {},
     "nuid": "7b87f108-fc9c-4b5b-b8f4-0d9f99456292",
     "showTitle": false,
     "title": ""
    }
   },
   "outputs": [
    {
     "output_type": "stream",
     "name": "stdout",
     "output_type": "stream",
     "text": [
      "+---+------------+--------------+---------+------+---------------+------------+-------------+-------+----------------+------------------+---------------------+--------+-----+--------+--------+------------+\n|Age|         Job|Marital Status|Education|Credit|Balance (euros)|Housing Loan|Personal Loan|Contact|Last Contact Day|Last Contact Month|Last Contact Duration|Campaign|Pdays|Previous|Poutcome|Subscription|\n+---+------------+--------------+---------+------+---------------+------------+-------------+-------+----------------+------------------+---------------------+--------+-----+--------+--------+------------+\n| 58|  management|       married| tertiary|    no|           2143|         yes|           no|unknown|               5|               may|                  261|       1|   -1|       0| unknown|           1|\n| 44|  technician|        single|secondary|    no|             29|         yes|           no|unknown|               5|               may|                  151|       1|   -1|       0| unknown|           1|\n| 33|entrepreneur|       married|secondary|    no|              2|         yes|          yes|unknown|               5|               may|                   76|       1|   -1|       0| unknown|           1|\n| 47| blue-collar|       married|  unknown|    no|           1506|         yes|           no|unknown|               5|               may|                   92|       1|   -1|       0| unknown|           1|\n| 33|     unknown|        single|  unknown|    no|              1|          no|           no|unknown|               5|               may|                  198|       1|   -1|       0| unknown|           1|\n+---+------------+--------------+---------+------+---------------+------------+-------------+-------+----------------+------------------+---------------------+--------+-----+--------+--------+------------+\nonly showing top 5 rows\n\n"
     ]
    }
   ],
   "source": [
    "# Exibição das primeiras 5 linhas\n",
    "df.show(5)"
   ]
  },
  {
   "cell_type": "markdown",
   "metadata": {
    "application/vnd.databricks.v1+cell": {
     "cellMetadata": {},
     "inputWidgets": {},
     "nuid": "ad4ec911-0a16-4975-af65-44dc6023f7f0",
     "showTitle": false,
     "title": ""
    }
   },
   "source": [
    "## Exercício 3: Escrita de Resultados de Análise\n",
    "\n",
    "Tarefa: Realize uma análise adicional dos dados e escreva os resultados de volta para o DBFS."
   ]
  },
  {
   "cell_type": "code",
   "execution_count": 0,
   "metadata": {
    "application/vnd.databricks.v1+cell": {
     "cellMetadata": {
      "byteLimit": 2048000,
      "rowLimit": 10000
     },
     "inputWidgets": {},
     "nuid": "86bd69eb-6b64-41a7-a7fb-f517e45d1b6f",
     "showTitle": false,
     "title": ""
    }
   },
   "outputs": [
    {
     "output_type": "display_data",
     "data": {
      "text/html": [
       "<style scoped>\n",
       "  .table-result-container {\n",
       "    max-height: 300px;\n",
       "    overflow: auto;\n",
       "  }\n",
       "  table, th, td {\n",
       "    border: 1px solid black;\n",
       "    border-collapse: collapse;\n",
       "  }\n",
       "  th, td {\n",
       "    padding: 5px;\n",
       "  }\n",
       "  th {\n",
       "    text-align: left;\n",
       "  }\n",
       "</style><div class='table-result-container'><table class='table-result'><thead style='background-color: white'><tr><th>Education_group</th><th>Balance_group</th></tr></thead><tbody><tr><td>null</td><td>1362.2720576850766</td></tr></tbody></table></div>"
      ]
     },
     "metadata": {
      "application/vnd.databricks.v1+output": {
       "addedWidgets": {},
       "aggData": [],
       "aggError": "",
       "aggOverflow": false,
       "aggSchema": [],
       "aggSeriesLimitReached": false,
       "aggType": "",
       "arguments": {},
       "columnCustomDisplayInfos": {},
       "data": [
        [
         null,
         1362.2720576850766
        ]
       ],
       "datasetInfos": [],
       "dbfsResultPath": null,
       "isJsonSchema": true,
       "metadata": {},
       "overflow": false,
       "plotOptions": {
        "customPlotOptions": {},
        "displayType": "table",
        "pivotAggregation": null,
        "pivotColumns": null,
        "xColumns": null,
        "yColumns": null
       },
       "removedWidgets": [],
       "schema": [
        {
         "metadata": "{}",
         "name": "Education_group",
         "type": "\"integer\""
        },
        {
         "metadata": "{}",
         "name": "Balance_group",
         "type": "\"double\""
        }
       ],
       "type": "table"
      }
     },
     "output_type": "display_data"
    }
   ],
   "source": [
    "# Análise adicional dos dados (por exemplo, cálculo de médias)\n",
    "education_avg_balance = df.groupBy(month(\"Education\").alias(\"Education_group\")).agg(avg(\"Balance (euros)\").alias(\"Balance_group\"))\n",
    "\n",
    "education_avg_balance.display()"
   ]
  },
  {
   "cell_type": "code",
   "execution_count": 0,
   "metadata": {
    "application/vnd.databricks.v1+cell": {
     "cellMetadata": {
      "byteLimit": 2048000,
      "rowLimit": 10000
     },
     "inputWidgets": {},
     "nuid": "2ae08d1a-4b7f-4069-ac2e-040bcfc810e2",
     "showTitle": false,
     "title": ""
    }
   },
   "outputs": [],
   "source": [
    "# Escreva os resultados de volta para o DBFS em formato CSV\n",
    "education_avg_balance.write.csv(\"/dbfs/FileStore/aula_02/day_balance.csv\", header=True)"
   ]
  },
  {
   "cell_type": "markdown",
   "metadata": {
    "application/vnd.databricks.v1+cell": {
     "cellMetadata": {},
     "inputWidgets": {},
     "nuid": "b32deb30-d168-42cb-aa0f-771d61515783",
     "showTitle": false,
     "title": ""
    }
   },
   "source": [
    "## Exercício 4: Remoção de Arquivos\n",
    "\n",
    "Tarefa: Remova um arquivo específico do DBFS e verifique se o arquivo foi excluído com sucesso."
   ]
  },
  {
   "cell_type": "code",
   "execution_count": 0,
   "metadata": {
    "application/vnd.databricks.v1+cell": {
     "cellMetadata": {
      "byteLimit": 2048000,
      "rowLimit": 10000
     },
     "inputWidgets": {},
     "nuid": "954d690f-10d2-4241-b35e-787e9f72f3dc",
     "showTitle": false,
     "title": ""
    }
   },
   "outputs": [
    {
     "output_type": "stream",
     "name": "stdout",
     "output_type": "stream",
     "text": [
      "Out[24]: True"
     ]
    }
   ],
   "source": [
    "dbutils.fs.rm(\"/dbfs/FileStore/aula_02/day_balance.csv\", True)"
   ]
  },
  {
   "cell_type": "markdown",
   "metadata": {
    "application/vnd.databricks.v1+cell": {
     "cellMetadata": {},
     "inputWidgets": {},
     "nuid": "ff252820-8633-489f-8d41-46cc9a325b27",
     "showTitle": false,
     "title": ""
    }
   },
   "source": [
    "## Exercício 5: Criação de Diretórios\n",
    "\n",
    "Tarefa: Crie um novo diretório no DBFS e faça o upload de um arquivo para esse diretório."
   ]
  },
  {
   "cell_type": "code",
   "execution_count": 0,
   "metadata": {
    "application/vnd.databricks.v1+cell": {
     "cellMetadata": {
      "byteLimit": 2048000,
      "rowLimit": 10000
     },
     "inputWidgets": {},
     "nuid": "553cd9ed-aa13-43ef-bfa9-b7cbf317256e",
     "showTitle": false,
     "title": ""
    }
   },
   "outputs": [
    {
     "output_type": "stream",
     "name": "stdout",
     "output_type": "stream",
     "text": [
      "Out[25]: True"
     ]
    }
   ],
   "source": [
    "dbutils.fs.mkdirs(\"/dbfs/FileStore/new_directory\")\n",
    "dbutils.fs.cp(\"dbfs:/FileStore/aula_02/Bank_Marketing.csv\", \"/dbfs/FileStore/new_directory/Bank_Marketing.csv\")\n"
   ]
  },
  {
   "cell_type": "markdown",
   "metadata": {
    "application/vnd.databricks.v1+cell": {
     "cellMetadata": {},
     "inputWidgets": {},
     "nuid": "3f517c29-40a0-4351-b84b-93ec21f9d67f",
     "showTitle": false,
     "title": ""
    }
   },
   "source": [
    "## Exercício 6: Renomeação de Arquivos\n",
    "\n",
    "Tarefa: Renomeie um arquivo no DBFS e verifique se o arquivo foi renomeado com sucesso."
   ]
  },
  {
   "cell_type": "code",
   "execution_count": 0,
   "metadata": {
    "application/vnd.databricks.v1+cell": {
     "cellMetadata": {
      "byteLimit": 2048000,
      "rowLimit": 10000
     },
     "inputWidgets": {},
     "nuid": "92805169-f634-4ffc-9739-684be5423c8a",
     "showTitle": false,
     "title": ""
    }
   },
   "outputs": [
    {
     "output_type": "stream",
     "name": "stdout",
     "output_type": "stream",
     "text": [
      "Out[30]: True"
     ]
    }
   ],
   "source": [
    "dbutils.fs.mv(\"dbfs:/FileStore/aula_02/Bank_Marketing.csv\", \"dbfs:/FileStore/aula_02/New_Bank_Marketing.csv\")"
   ]
  },
  {
   "cell_type": "code",
   "execution_count": 0,
   "metadata": {
    "application/vnd.databricks.v1+cell": {
     "cellMetadata": {
      "byteLimit": 2048000,
      "rowLimit": 10000
     },
     "inputWidgets": {},
     "nuid": "606237ab-2a8b-493d-bcd0-6e3d8a539248",
     "showTitle": false,
     "title": ""
    }
   },
   "outputs": [
    {
     "output_type": "stream",
     "name": "stdout",
     "output_type": "stream",
     "text": [
      "Out[31]: [FileInfo(path='dbfs:/FileStore/aula_02/New_Bank_Marketing.csv', name='New_Bank_Marketing.csv', size=3700884, modificationTime=1699317898000)]"
     ]
    }
   ],
   "source": [
    "dbutils.fs.ls(\"dbfs:/FileStore/aula_02/\")"
   ]
  },
  {
   "cell_type": "markdown",
   "metadata": {
    "application/vnd.databricks.v1+cell": {
     "cellMetadata": {},
     "inputWidgets": {},
     "nuid": "507d8acc-99dd-46da-9bd0-8700838f2ae2",
     "showTitle": false,
     "title": ""
    }
   },
   "source": [
    "## Exercício:\n",
    "Estudo de Caso: Validando a Implementação do Databricks e da Computação em Nuvem\n",
    "\n",
    "Cenário de Negócios: Você é o CTO de uma empresa que está considerando a implementação do Databricks e a migração para a computação em nuvem. A empresa lida com grandes volumes de dados e busca uma solução que permita escalabilidade, flexibilidade e eficiência nos custos. Sua tarefa é apresentar motivos para a implementação do Databricks e da computação em nuvem.\n",
    "\n",
    "Tarefa: Desenvolva uma análise que justifique a implementação do Databricks e da computação em nuvem com base nos benefícios oferecidos por essas tecnologias."
   ]
  },
  {
   "cell_type": "markdown",
   "metadata": {
    "application/vnd.databricks.v1+cell": {
     "cellMetadata": {},
     "inputWidgets": {},
     "nuid": "9b63b093-dd61-4736-8e8f-b378b2483930",
     "showTitle": false,
     "title": ""
    }
   },
   "source": [
    "\n",
    "A implementação do Databricks e a migração para a computação em nuvem podem trazer diversos benefícios para a empresa, especialmente se a organização lida com grandes volumes de dados. Abaixo, vou destacar os principais motivos para considerar essas tecnologias:\n",
    "\n",
    "1. Escalabilidade:\n",
    "   - A computação em nuvem oferece escalabilidade sob demanda, permitindo que a empresa aumente ou diminua os recursos de computação de acordo com suas necessidades. Isso é fundamental para lidar com grandes volumes de dados, pois a capacidade de escalar automaticamente ajuda a evitar gargalos e garantir o desempenho contínuo.\n",
    "\n",
    "2. Flexibilidade:\n",
    "   - Databricks é uma plataforma de análise de dados que oferece suporte a uma variedade de linguagens de programação, incluindo SQL, Python, R e Scala. Isso permite que a equipe de dados utilize a linguagem mais adequada para cada tarefa, tornando o processo de análise de dados mais flexível e eficaz.\n",
    "\n",
    "3. Eficiência nos Custos:\n",
    "   - A computação em nuvem elimina a necessidade de investir em hardware e infraestrutura própria, reduzindo significativamente os custos de capital. Além disso, a alocação de recursos na nuvem é baseada no modelo pay-as-you-go, o que significa que a empresa paga apenas pelos recursos que realmente utiliza, tornando os custos mais previsíveis e controláveis.\n",
    "\n",
    "4. Processamento Distribuído:\n",
    "   - Databricks é construído sobre o Apache Spark, uma estrutura de processamento de dados distribuída que permite o processamento eficiente de grandes volumes de dados em paralelo. Isso acelera o tempo de processamento e análise de dados, o que é essencial para a tomada de decisões em tempo real.\n",
    "\n",
    "5. Colaboração e Produtividade:\n",
    "   - Databricks oferece um ambiente de colaboração em equipe, permitindo que os cientistas de dados e engenheiros colaborem de forma eficaz. Além disso, a plataforma suporta a criação de fluxos de trabalho de dados automatizados, o que aumenta a produtividade da equipe.\n",
    "\n",
    "6. Segurança e Conformidade:\n",
    "   - As principais provedoras de serviços em nuvem, como AWS, Azure e Google Cloud, investem fortemente em segurança e conformidade. Isso permite que as empresas garantam a proteção de dados sensíveis e cumpram regulamentações, como o GDPR e o HIPAA.\n",
    "\n",
    "7. Acesso a Serviços Avançados:\n",
    "   - A computação em nuvem oferece acesso a uma ampla gama de serviços avançados, como aprendizado de máquina, análise avançada, IoT e muito mais. Databricks integra-se facilmente a esses serviços, permitindo que a empresa aproveite inovações tecnológicas de ponta.\n",
    "\n",
    "8. Gerenciamento Simplificado:\n",
    "   - A gestão de infraestrutura e recursos em nuvem é simplificada, com ferramentas de gerenciamento centralizadas. Isso permite que a equipe de TI se concentre mais na análise de dados e menos na manutenção de hardware e software.\n",
    "\n",
    "Em resumo, a implementação do Databricks e a migração para a computação em nuvem oferecem uma série de benefícios, incluindo escalabilidade, flexibilidade, eficiência nos custos, processamento distribuído, segurança, colaboração, acesso a serviços avançados e gerenciamento simplificado. Essas tecnologias são fundamentais para empresas que lidam com grandes volumes de dados e desejam obter insights valiosos de forma eficiente e eficaz."
   ]
  }
 ],
 "metadata": {
  "application/vnd.databricks.v1+notebook": {
   "dashboards": [],
   "language": "python",
   "notebookMetadata": {
    "pythonIndentUnit": 4
   },
   "notebookName": "Ex. aula_02",
   "widgets": {}
  }
 },
 "nbformat": 4,
 "nbformat_minor": 0
}
